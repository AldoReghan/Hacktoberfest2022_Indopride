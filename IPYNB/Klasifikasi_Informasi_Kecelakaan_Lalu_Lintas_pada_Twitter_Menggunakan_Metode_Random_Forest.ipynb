{
  "nbformat": 4,
  "nbformat_minor": 0,
  "metadata": {
    "colab": {
      "name": "Klasifikasi Informasi Kecelakaan Lalu Lintas pada Twitter Menggunakan Metode Random Forest .ipbny",
      "provenance": [],
      "collapsed_sections": [],
      "toc_visible": true
    },
    "kernelspec": {
      "name": "python3",
      "display_name": "Python 3"
    },
    "language_info": {
      "name": "python"
    }
  },
  "cells": [
    {
      "cell_type": "markdown",
      "metadata": {
        "id": "fz0DvLI79p_c"
      },
      "source": [
        "Penerapan Data Mining Untuk Klasifikasi Informasi Kecelakaan Lalu Lintas pada Twitter Menggunakan Metode Random Forest "
      ]
    },
    {
      "cell_type": "markdown",
      "metadata": {
        "id": "748QJ5dtIGSv"
      },
      "source": [
        "#Import Modul"
      ]
    },
    {
      "cell_type": "code",
      "metadata": {
        "id": "U4PHLPPl9ph6"
      },
      "source": [
        "import numpy as np\n",
        "import pandas as pd\n",
        "import zipfile\n",
        "import matplotlib.pyplot as plt\n",
        "import string\n",
        "\n",
        "from sklearn.feature_extraction.text import TfidfVectorizer\n",
        "from sklearn.model_selection import train_test_split\n",
        "from sklearn.ensemble import RandomForestClassifier\n",
        "from sklearn.metrics import confusion_matrix\n",
        "\n",
        "from nltk.tokenize import sent_tokenize, word_tokenize\n",
        "from nltk.corpus import stopwords\n",
        "import nltk"
      ],
      "execution_count": null,
      "outputs": []
    },
    {
      "cell_type": "markdown",
      "metadata": {
        "id": "6AZ1g__D-K8x"
      },
      "source": [
        "#Load Dataset"
      ]
    },
    {
      "cell_type": "code",
      "metadata": {
        "colab": {
          "base_uri": "https://localhost:8080/"
        },
        "id": "rHwhhxLF-N_D",
        "outputId": "8c015f5b-5ff6-45c8-b409-a4a939a75a11"
      },
      "source": [
        "!pip install kaggle"
      ],
      "execution_count": null,
      "outputs": [
        {
          "output_type": "stream",
          "text": [
            "Requirement already satisfied: kaggle in /usr/local/lib/python3.7/dist-packages (1.5.12)\n",
            "Requirement already satisfied: tqdm in /usr/local/lib/python3.7/dist-packages (from kaggle) (4.41.1)\n",
            "Requirement already satisfied: certifi in /usr/local/lib/python3.7/dist-packages (from kaggle) (2020.12.5)\n",
            "Requirement already satisfied: six>=1.10 in /usr/local/lib/python3.7/dist-packages (from kaggle) (1.15.0)\n",
            "Requirement already satisfied: python-slugify in /usr/local/lib/python3.7/dist-packages (from kaggle) (5.0.2)\n",
            "Requirement already satisfied: requests in /usr/local/lib/python3.7/dist-packages (from kaggle) (2.23.0)\n",
            "Requirement already satisfied: python-dateutil in /usr/local/lib/python3.7/dist-packages (from kaggle) (2.8.1)\n",
            "Requirement already satisfied: urllib3 in /usr/local/lib/python3.7/dist-packages (from kaggle) (1.24.3)\n",
            "Requirement already satisfied: text-unidecode>=1.3 in /usr/local/lib/python3.7/dist-packages (from python-slugify->kaggle) (1.3)\n",
            "Requirement already satisfied: idna<3,>=2.5 in /usr/local/lib/python3.7/dist-packages (from requests->kaggle) (2.10)\n",
            "Requirement already satisfied: chardet<4,>=3.0.2 in /usr/local/lib/python3.7/dist-packages (from requests->kaggle) (3.0.4)\n"
          ],
          "name": "stdout"
        }
      ]
    },
    {
      "cell_type": "code",
      "metadata": {
        "colab": {
          "resources": {
            "http://localhost:8080/nbextensions/google.colab/files.js": {
              "data": "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",
              "ok": true,
              "headers": [
                [
                  "content-type",
                  "application/javascript"
                ]
              ],
              "status": 200,
              "status_text": ""
            }
          },
          "base_uri": "https://localhost:8080/",
          "height": 89
        },
        "id": "zvjHWUGu-Onu",
        "outputId": "b5f397ee-d2db-43df-8089-d774927d0986"
      },
      "source": [
        "from google.colab import files\n",
        "files.upload()"
      ],
      "execution_count": null,
      "outputs": [
        {
          "output_type": "display_data",
          "data": {
            "text/html": [
              "\n",
              "     <input type=\"file\" id=\"files-0b31e583-f638-4af7-b279-a4b996a74b4d\" name=\"files[]\" multiple disabled\n",
              "        style=\"border:none\" />\n",
              "     <output id=\"result-0b31e583-f638-4af7-b279-a4b996a74b4d\">\n",
              "      Upload widget is only available when the cell has been executed in the\n",
              "      current browser session. Please rerun this cell to enable.\n",
              "      </output>\n",
              "      <script src=\"/nbextensions/google.colab/files.js\"></script> "
            ],
            "text/plain": [
              "<IPython.core.display.HTML object>"
            ]
          },
          "metadata": {
            "tags": []
          }
        },
        {
          "output_type": "stream",
          "text": [
            "Saving kaggle.json to kaggle.json\n"
          ],
          "name": "stdout"
        },
        {
          "output_type": "execute_result",
          "data": {
            "text/plain": [
              "{'kaggle.json': b'{\"username\":\"kulitekno\",\"key\":\"7fbe76b44b7ebd042664d9da1a0c058a\"}'}"
            ]
          },
          "metadata": {
            "tags": []
          },
          "execution_count": 3
        }
      ]
    },
    {
      "cell_type": "code",
      "metadata": {
        "id": "xgODImO3-Ydz",
        "colab": {
          "base_uri": "https://localhost:8080/"
        },
        "outputId": "72797d7b-d01a-488d-883c-87539f3ec022"
      },
      "source": [
        "!mkdir -p ~/.kaggle\n",
        "!cp kaggle.json ~/.kaggle/\n",
        "!chmod 600 ~/.kaggle/kaggle.json"
      ],
      "execution_count": null,
      "outputs": [
        {
          "output_type": "stream",
          "text": [
            "cp: cannot stat 'kaggle.json': No such file or directory\n",
            "chmod: cannot access '/root/.kaggle/kaggle.json': No such file or directory\n"
          ],
          "name": "stdout"
        }
      ]
    },
    {
      "cell_type": "code",
      "metadata": {
        "id": "rs8tgS5qkXea"
      },
      "source": [
        "from google.colab import drive\n",
        "drive.mount('/content/drive')"
      ],
      "execution_count": null,
      "outputs": []
    },
    {
      "cell_type": "code",
      "metadata": {
        "colab": {
          "base_uri": "https://localhost:8080/"
        },
        "id": "-HMyvzj5-auy",
        "outputId": "abd5d834-25e2-43a6-b3b5-435fcefb88c9"
      },
      "source": [
        "!kaggle datasets download -d dodyagung/accident"
      ],
      "execution_count": null,
      "outputs": [
        {
          "output_type": "stream",
          "text": [
            "Downloading accident.zip to /content\n",
            " 98% 307M/313M [00:04<00:00, 100MB/s] \n",
            "100% 313M/313M [00:04<00:00, 79.9MB/s]\n"
          ],
          "name": "stdout"
        }
      ]
    },
    {
      "cell_type": "code",
      "metadata": {
        "id": "iIeGu428-lYP"
      },
      "source": [
        "zip_ref = zipfile.ZipFile('accident.zip', 'r')\n",
        "zip_ref.extractall('files')\n",
        "zip_ref.close()"
      ],
      "execution_count": null,
      "outputs": []
    },
    {
      "cell_type": "code",
      "metadata": {
        "colab": {
          "base_uri": "https://localhost:8080/"
        },
        "id": "uhLUVZkA-oC4",
        "outputId": "2a88e923-4e5f-48f5-d267-69d667b98da0"
      },
      "source": [
        "!ls"
      ],
      "execution_count": null,
      "outputs": [
        {
          "output_type": "stream",
          "text": [
            "accident.zip  files  kaggle.json  sample_data\n"
          ],
          "name": "stdout"
        }
      ]
    },
    {
      "cell_type": "markdown",
      "metadata": {
        "id": "0WIuz8eP-rzE"
      },
      "source": [
        "#Change to Dataframe"
      ]
    },
    {
      "cell_type": "code",
      "metadata": {
        "id": "2Sh1lBtw-p4l"
      },
      "source": [
        "df = pd.read_csv('/content/files/twitter_label_manual.csv')"
      ],
      "execution_count": null,
      "outputs": []
    },
    {
      "cell_type": "markdown",
      "metadata": {
        "id": "GBo87w5G-P-5"
      },
      "source": [
        "#Check dataset"
      ]
    },
    {
      "cell_type": "code",
      "metadata": {
        "colab": {
          "base_uri": "https://localhost:8080/",
          "height": 606
        },
        "id": "8FThxsgY-z7z",
        "outputId": "70e7402e-8520-49e3-ef80-be3ebab5a0f2"
      },
      "source": [
        "#to check shape of the dataset\n",
        "print(df.shape) \n",
        "\n",
        "#to look the header of dataset\n",
        "df"
      ],
      "execution_count": null,
      "outputs": [
        {
          "output_type": "stream",
          "text": [
            "(1002, 6)\n"
          ],
          "name": "stdout"
        },
        {
          "output_type": "execute_result",
          "data": {
            "text/html": [
              "<div>\n",
              "<style scoped>\n",
              "    .dataframe tbody tr th:only-of-type {\n",
              "        vertical-align: middle;\n",
              "    }\n",
              "\n",
              "    .dataframe tbody tr th {\n",
              "        vertical-align: top;\n",
              "    }\n",
              "\n",
              "    .dataframe thead th {\n",
              "        text-align: right;\n",
              "    }\n",
              "</style>\n",
              "<table border=\"1\" class=\"dataframe\">\n",
              "  <thead>\n",
              "    <tr style=\"text-align: right;\">\n",
              "      <th></th>\n",
              "      <th>id_str</th>\n",
              "      <th>created_at</th>\n",
              "      <th>crawled_at</th>\n",
              "      <th>screen_name</th>\n",
              "      <th>is_accident</th>\n",
              "      <th>full_text</th>\n",
              "    </tr>\n",
              "  </thead>\n",
              "  <tbody>\n",
              "    <tr>\n",
              "      <th>0</th>\n",
              "      <td>1113976371515146240</td>\n",
              "      <td>2019-04-05 08:27:18</td>\n",
              "      <td>2020-02-08 12:30:29</td>\n",
              "      <td>mrahmatr7</td>\n",
              "      <td>1</td>\n",
              "      <td>Rekaman CCTV Kecelakaan Motor di PIK, depan Ta...</td>\n",
              "    </tr>\n",
              "    <tr>\n",
              "      <th>1</th>\n",
              "      <td>1114010329313206272</td>\n",
              "      <td>2019-04-05 10:42:14</td>\n",
              "      <td>2020-02-08 12:30:43</td>\n",
              "      <td>PanritaNews</td>\n",
              "      <td>1</td>\n",
              "      <td>Tewaskan 346 Orang dalam 2 Kecelakaan, Boss Bo...</td>\n",
              "    </tr>\n",
              "    <tr>\n",
              "      <th>2</th>\n",
              "      <td>1114037478237855745</td>\n",
              "      <td>2019-04-05 12:30:07</td>\n",
              "      <td>2020-02-08 12:30:56</td>\n",
              "      <td>VICE_ID</td>\n",
              "      <td>0</td>\n",
              "      <td>Anggota parlemen Taiwan juga berencana meningk...</td>\n",
              "    </tr>\n",
              "    <tr>\n",
              "      <th>3</th>\n",
              "      <td>1114121169873932288</td>\n",
              "      <td>2019-04-05 18:02:40</td>\n",
              "      <td>2020-02-08 12:31:38</td>\n",
              "      <td>OfficialSyariah</td>\n",
              "      <td>0</td>\n",
              "      <td>C.Gerakan.bicara pertolongan pertama pada kece...</td>\n",
              "    </tr>\n",
              "    <tr>\n",
              "      <th>4</th>\n",
              "      <td>1114149728323682305</td>\n",
              "      <td>2019-04-05 19:56:09</td>\n",
              "      <td>2020-02-08 12:31:54</td>\n",
              "      <td>AhliAsuransi</td>\n",
              "      <td>0</td>\n",
              "      <td>Asuransi mana nih??\\n\\nhttps://t.co/AJyABmimcY...</td>\n",
              "    </tr>\n",
              "    <tr>\n",
              "      <th>...</th>\n",
              "      <td>...</td>\n",
              "      <td>...</td>\n",
              "      <td>...</td>\n",
              "      <td>...</td>\n",
              "      <td>...</td>\n",
              "      <td>...</td>\n",
              "    </tr>\n",
              "    <tr>\n",
              "      <th>997</th>\n",
              "      <td>1241648950509047808</td>\n",
              "      <td>2020-03-22 15:52:33</td>\n",
              "      <td>2020-03-22 16:00:09</td>\n",
              "      <td>akun_b1j4k</td>\n",
              "      <td>0</td>\n",
              "      <td>\"Jatuh cinta itu adalah sebuah kecelakaan yang...</td>\n",
              "    </tr>\n",
              "    <tr>\n",
              "      <th>998</th>\n",
              "      <td>1241721566016073728</td>\n",
              "      <td>2020-03-22 20:41:06</td>\n",
              "      <td>2020-03-22 20:45:09</td>\n",
              "      <td>officialFilza24</td>\n",
              "      <td>0</td>\n",
              "      <td>Pesan nasi goreng depan lapaknya ada kecelakaa...</td>\n",
              "    </tr>\n",
              "    <tr>\n",
              "      <th>999</th>\n",
              "      <td>1242306574887968768</td>\n",
              "      <td>2020-03-24 11:25:43</td>\n",
              "      <td>2020-03-24 11:30:10</td>\n",
              "      <td>sekitarbandung_</td>\n",
              "      <td>1</td>\n",
              "      <td>Hati-hati, Lalin di Tol Purbaleunyi Baros KM 1...</td>\n",
              "    </tr>\n",
              "    <tr>\n",
              "      <th>1000</th>\n",
              "      <td>1242347427262128128</td>\n",
              "      <td>2020-03-24 14:08:03</td>\n",
              "      <td>2020-03-24 14:15:08</td>\n",
              "      <td>ainaizt15</td>\n",
              "      <td>0</td>\n",
              "      <td>korang ada any idea tak macam mana nak bina sa...</td>\n",
              "    </tr>\n",
              "    <tr>\n",
              "      <th>1001</th>\n",
              "      <td>1242752743271321602</td>\n",
              "      <td>2020-03-25 16:58:37</td>\n",
              "      <td>2020-03-25 17:00:08</td>\n",
              "      <td>Sucinurr_</td>\n",
              "      <td>0</td>\n",
              "      <td>\"klo takdirnya mati karna corona ya udh lah ma...</td>\n",
              "    </tr>\n",
              "  </tbody>\n",
              "</table>\n",
              "<p>1002 rows × 6 columns</p>\n",
              "</div>"
            ],
            "text/plain": [
              "                   id_str  ...                                          full_text\n",
              "0     1113976371515146240  ...  Rekaman CCTV Kecelakaan Motor di PIK, depan Ta...\n",
              "1     1114010329313206272  ...  Tewaskan 346 Orang dalam 2 Kecelakaan, Boss Bo...\n",
              "2     1114037478237855745  ...  Anggota parlemen Taiwan juga berencana meningk...\n",
              "3     1114121169873932288  ...  C.Gerakan.bicara pertolongan pertama pada kece...\n",
              "4     1114149728323682305  ...  Asuransi mana nih??\\n\\nhttps://t.co/AJyABmimcY...\n",
              "...                   ...  ...                                                ...\n",
              "997   1241648950509047808  ...  \"Jatuh cinta itu adalah sebuah kecelakaan yang...\n",
              "998   1241721566016073728  ...  Pesan nasi goreng depan lapaknya ada kecelakaa...\n",
              "999   1242306574887968768  ...  Hati-hati, Lalin di Tol Purbaleunyi Baros KM 1...\n",
              "1000  1242347427262128128  ...  korang ada any idea tak macam mana nak bina sa...\n",
              "1001  1242752743271321602  ...  \"klo takdirnya mati karna corona ya udh lah ma...\n",
              "\n",
              "[1002 rows x 6 columns]"
            ]
          },
          "metadata": {
            "tags": []
          },
          "execution_count": 14
        }
      ]
    },
    {
      "cell_type": "code",
      "metadata": {
        "colab": {
          "base_uri": "https://localhost:8080/",
          "height": 529
        },
        "id": "iowGK50s6wpA",
        "outputId": "dd9e3cb7-4e3d-4d1c-c03e-3c36921be8c6"
      },
      "source": [
        "#get 5 data\n",
        "new_df = df[:10]\n",
        "new_df"
      ],
      "execution_count": null,
      "outputs": [
        {
          "output_type": "execute_result",
          "data": {
            "text/html": [
              "<div>\n",
              "<style scoped>\n",
              "    .dataframe tbody tr th:only-of-type {\n",
              "        vertical-align: middle;\n",
              "    }\n",
              "\n",
              "    .dataframe tbody tr th {\n",
              "        vertical-align: top;\n",
              "    }\n",
              "\n",
              "    .dataframe thead th {\n",
              "        text-align: right;\n",
              "    }\n",
              "</style>\n",
              "<table border=\"1\" class=\"dataframe\">\n",
              "  <thead>\n",
              "    <tr style=\"text-align: right;\">\n",
              "      <th></th>\n",
              "      <th>id_str</th>\n",
              "      <th>created_at</th>\n",
              "      <th>crawled_at</th>\n",
              "      <th>screen_name</th>\n",
              "      <th>is_accident</th>\n",
              "      <th>full_text</th>\n",
              "    </tr>\n",
              "  </thead>\n",
              "  <tbody>\n",
              "    <tr>\n",
              "      <th>0</th>\n",
              "      <td>1113976371515146240</td>\n",
              "      <td>2019-04-05 08:27:18</td>\n",
              "      <td>2020-02-08 12:30:29</td>\n",
              "      <td>mrahmatr7</td>\n",
              "      <td>1</td>\n",
              "      <td>Rekaman CCTV Kecelakaan Motor di PIK, depan Ta...</td>\n",
              "    </tr>\n",
              "    <tr>\n",
              "      <th>1</th>\n",
              "      <td>1114010329313206272</td>\n",
              "      <td>2019-04-05 10:42:14</td>\n",
              "      <td>2020-02-08 12:30:43</td>\n",
              "      <td>PanritaNews</td>\n",
              "      <td>1</td>\n",
              "      <td>Tewaskan 346 Orang dalam 2 Kecelakaan, Boss Bo...</td>\n",
              "    </tr>\n",
              "    <tr>\n",
              "      <th>2</th>\n",
              "      <td>1114037478237855745</td>\n",
              "      <td>2019-04-05 12:30:07</td>\n",
              "      <td>2020-02-08 12:30:56</td>\n",
              "      <td>VICE_ID</td>\n",
              "      <td>0</td>\n",
              "      <td>Anggota parlemen Taiwan juga berencana meningk...</td>\n",
              "    </tr>\n",
              "    <tr>\n",
              "      <th>3</th>\n",
              "      <td>1114121169873932288</td>\n",
              "      <td>2019-04-05 18:02:40</td>\n",
              "      <td>2020-02-08 12:31:38</td>\n",
              "      <td>OfficialSyariah</td>\n",
              "      <td>0</td>\n",
              "      <td>C.Gerakan.bicara pertolongan pertama pada kece...</td>\n",
              "    </tr>\n",
              "    <tr>\n",
              "      <th>4</th>\n",
              "      <td>1114149728323682305</td>\n",
              "      <td>2019-04-05 19:56:09</td>\n",
              "      <td>2020-02-08 12:31:54</td>\n",
              "      <td>AhliAsuransi</td>\n",
              "      <td>0</td>\n",
              "      <td>Asuransi mana nih??\\n\\nhttps://t.co/AJyABmimcY...</td>\n",
              "    </tr>\n",
              "    <tr>\n",
              "      <th>5</th>\n",
              "      <td>1114202648356331520</td>\n",
              "      <td>2019-04-05 23:26:26</td>\n",
              "      <td>2020-02-08 12:32:11</td>\n",
              "      <td>RadioElshinta</td>\n",
              "      <td>1</td>\n",
              "      <td>23.27: @PTJASAMARGA : Kunciran KM 14 - KM 16 a...</td>\n",
              "    </tr>\n",
              "    <tr>\n",
              "      <th>6</th>\n",
              "      <td>1114211596711157761</td>\n",
              "      <td>2019-04-06 00:02:00</td>\n",
              "      <td>2020-02-08 12:32:15</td>\n",
              "      <td>detikcom</td>\n",
              "      <td>1</td>\n",
              "      <td>Terjadi kecelakaan truk muatan besar di Tol Ku...</td>\n",
              "    </tr>\n",
              "    <tr>\n",
              "      <th>7</th>\n",
              "      <td>1114430434694139904</td>\n",
              "      <td>2019-04-06 14:31:35</td>\n",
              "      <td>2020-02-08 12:33:11</td>\n",
              "      <td>adekrsnnd</td>\n",
              "      <td>0</td>\n",
              "      <td>Plot twist: Ibunya abis kecelakaan, nemenin ke...</td>\n",
              "    </tr>\n",
              "    <tr>\n",
              "      <th>8</th>\n",
              "      <td>1115096070793629696</td>\n",
              "      <td>2019-04-08 10:36:35</td>\n",
              "      <td>2020-02-08 12:47:30</td>\n",
              "      <td>TMC_Kebumen</td>\n",
              "      <td>0</td>\n",
              "      <td>UPDATE LAGI JADWAL SAMSAT KELILING DAN SAMSAT ...</td>\n",
              "    </tr>\n",
              "    <tr>\n",
              "      <th>9</th>\n",
              "      <td>1115167875721859072</td>\n",
              "      <td>2019-04-08 15:21:55</td>\n",
              "      <td>2020-02-08 12:48:12</td>\n",
              "      <td>noonalin2</td>\n",
              "      <td>0</td>\n",
              "      <td>Dapet video kejadian kecelakaan tunggal di Mar...</td>\n",
              "    </tr>\n",
              "  </tbody>\n",
              "</table>\n",
              "</div>"
            ],
            "text/plain": [
              "                id_str  ...                                          full_text\n",
              "0  1113976371515146240  ...  Rekaman CCTV Kecelakaan Motor di PIK, depan Ta...\n",
              "1  1114010329313206272  ...  Tewaskan 346 Orang dalam 2 Kecelakaan, Boss Bo...\n",
              "2  1114037478237855745  ...  Anggota parlemen Taiwan juga berencana meningk...\n",
              "3  1114121169873932288  ...  C.Gerakan.bicara pertolongan pertama pada kece...\n",
              "4  1114149728323682305  ...  Asuransi mana nih??\\n\\nhttps://t.co/AJyABmimcY...\n",
              "5  1114202648356331520  ...  23.27: @PTJASAMARGA : Kunciran KM 14 - KM 16 a...\n",
              "6  1114211596711157761  ...  Terjadi kecelakaan truk muatan besar di Tol Ku...\n",
              "7  1114430434694139904  ...  Plot twist: Ibunya abis kecelakaan, nemenin ke...\n",
              "8  1115096070793629696  ...  UPDATE LAGI JADWAL SAMSAT KELILING DAN SAMSAT ...\n",
              "9  1115167875721859072  ...  Dapet video kejadian kecelakaan tunggal di Mar...\n",
              "\n",
              "[10 rows x 6 columns]"
            ]
          },
          "metadata": {
            "tags": []
          },
          "execution_count": 49
        }
      ]
    },
    {
      "cell_type": "markdown",
      "metadata": {
        "id": "RPOGl_z4-NVP"
      },
      "source": [
        "#Preprocessing data"
      ]
    },
    {
      "cell_type": "code",
      "metadata": {
        "colab": {
          "base_uri": "https://localhost:8080/"
        },
        "id": "Q34d8znf_gzo",
        "outputId": "e5996e9f-fbfb-4d0c-b165-56a13d3f4f8a"
      },
      "source": [
        "#Get just necessary atribut and label\n",
        "new_df = new_df.drop(columns=['id_str', 'created_at', 'crawled_at', 'screen_name'])\n",
        "new_df\n",
        "for i,val in enumerate(new_df['full_text']):\n",
        "  print(i, val)\n"
      ],
      "execution_count": null,
      "outputs": [
        {
          "output_type": "stream",
          "text": [
            "0 Rekaman CCTV Kecelakaan Motor di PIK, depan Taman Grisenda :\n",
            "https://t.co/gMHLep9IvZ mhmmdrhmtrmdhn\n",
            "Visit Wonderful  #MRahmatRamadhan\n",
            "1 Tewaskan 346 Orang dalam 2 Kecelakaan, Boss Boeing Minta Maaf https://t.co/wLRhFy8oYE\n",
            "2 Anggota parlemen Taiwan juga berencana meningkatkan denda maksimum dan masa hukuman bagi orang yang menyetir dalam keadaan mabuk. https://t.co/GSWqziaKDN\n",
            "3 C.Gerakan.bicara pertolongan pertama pada kecelakaan (P3K-BAKAT) https://t.co/jlPyXK3EBV\n",
            "4 Asuransi mana nih??\n",
            "\n",
            "https://t.co/AJyABmimcY\n",
            "\n",
            "PPATK tidak memberikan rincian secara pasti siapa dan darimana asal partai caleg tersebut. Saat ini, pihaknya telah... https://t.co/AJyABmimcY\n",
            "5 23.27: @PTJASAMARGA : Kunciran KM 14 - KM 16 arah Bitung PADAT, ada penanganan kecelakaan kendaraan truk fuso di bahu jalan.\n",
            "6 Terjadi kecelakaan truk muatan besar di Tol Kunciran, Serpong arah Bitung. Akibatnya, terjadi kepadatan di lokasi kecelakaan. https://t.co/eeMnh9lZJa\n",
            "7 Plot twist: Ibunya abis kecelakaan, nemenin ke UGD dan baru bisa ditinggal.\n",
            "\n",
            "Tapi ya ga masalah sih. Yg penting kan eTikA pRofEsiOnaL. https://t.co/0e2zHaMkCo\n",
            "8 UPDATE LAGI JADWAL SAMSAT KELILING DAN SAMSAT DESA\n",
            ".\n",
            "Tertib bayar pajak yuk, 😁\n",
            ".\n",
            "🚫Stop Pelanggaran\n",
            "🚫Stop Kecelakaan\n",
            "Keselamatan untuk… https://t.co/THOqIu80Zw\n",
            "9 Dapet video kejadian kecelakaan tunggal di Margonda, Depok tadi pagi.. Ya Allah.. sedih liatnya.. \n",
            "\n",
            "Sudah biasa liat yg ky gt.. Ga serem, tp sedih iya.. Turut berduka.. :(\n",
            "\n",
            "Buat kalian yg bawa kendaraan, jgn lupa berdoa sebelum bepergian, hati2 dan patuhi rambu yaa..\n"
          ],
          "name": "stdout"
        }
      ]
    },
    {
      "cell_type": "code",
      "metadata": {
        "colab": {
          "base_uri": "https://localhost:8080/"
        },
        "id": "cpO7Y8t8AoB1",
        "outputId": "6123bf14-116c-4c84-9896-2bda811b1715"
      },
      "source": [
        "#remove link text and lower text\t\t\n",
        "new_df['full_text'] = new_df['full_text'].str.replace('http\\S+|www.\\S+', '', case=False).str.lower()\n",
        "for i,val in enumerate(new_df['full_text']):\n",
        "  print(i, val)"
      ],
      "execution_count": null,
      "outputs": [
        {
          "output_type": "stream",
          "text": [
            "0 rekaman cctv kecelakaan motor di pik, depan taman grisenda :\n",
            " mhmmdrhmtrmdhn\n",
            "visit wonderful  #mrahmatramadhan\n",
            "1 tewaskan 346 orang dalam 2 kecelakaan, boss boeing minta maaf \n",
            "2 anggota parlemen taiwan juga berencana meningkatkan denda maksimum dan masa hukuman bagi orang yang menyetir dalam keadaan mabuk. \n",
            "3 c.gerakan.bicara pertolongan pertama pada kecelakaan (p3k-bakat) \n",
            "4 asuransi mana nih??\n",
            "\n",
            "\n",
            "\n",
            "ppatk tidak memberikan rincian secara pasti siapa dan darimana asal partai caleg tersebut. saat ini, pihaknya telah... \n",
            "5 23.27: @ptjasamarga : kunciran km 14 - km 16 arah bitung padat, ada penanganan kecelakaan kendaraan truk fuso di bahu jalan.\n",
            "6 terjadi kecelakaan truk muatan besar di tol kunciran, serpong arah bitung. akibatnya, terjadi kepadatan di lokasi kecelakaan. \n",
            "7 plot twist: ibunya abis kecelakaan, nemenin ke ugd dan baru bisa ditinggal.\n",
            "\n",
            "tapi ya ga masalah sih. yg penting kan etika profesional. \n",
            "8 update lagi jadwal samsat keliling dan samsat desa\n",
            ".\n",
            "tertib bayar pajak yuk, 😁\n",
            ".\n",
            "🚫stop pelanggaran\n",
            "🚫stop kecelakaan\n",
            "keselamatan untuk… \n",
            "9 dapet video kejadian kecelakaan tunggal di margonda, depok tadi pagi.. ya allah.. sedih liatnya.. \n",
            "\n",
            "sudah biasa liat yg ky gt.. ga serem, tp sedih iya.. turut berduka.. :(\n",
            "\n",
            "buat kalian yg bawa kendaraan, jgn lupa berdoa sebelum bepergian, hati2 dan patuhi rambu yaa..\n"
          ],
          "name": "stdout"
        }
      ]
    },
    {
      "cell_type": "code",
      "metadata": {
        "id": "l-A_Kv-bAevg",
        "colab": {
          "base_uri": "https://localhost:8080/"
        },
        "outputId": "7a406ce0-98a4-42e3-c0d5-7742965acee8"
      },
      "source": [
        "#remove punctuations, emoji, number, multiple space, and enter\n",
        "\n",
        "new_df['full_text'] = new_df['full_text'].str.replace(r\"[^a-zA-Z ]+\", \" \").str.strip().replace('\\s+', ' ', regex=True)\n",
        "for i,val in enumerate(new_df['full_text']):\n",
        "  print(i, val)"
      ],
      "execution_count": null,
      "outputs": [
        {
          "output_type": "stream",
          "text": [
            "0 rekaman cctv kecelakaan motor di pik depan taman grisenda mhmmdrhmtrmdhn visit wonderful mrahmatramadhan\n",
            "1 tewaskan orang dalam kecelakaan boss boeing minta maaf\n",
            "2 anggota parlemen taiwan juga berencana meningkatkan denda maksimum dan masa hukuman bagi orang yang menyetir dalam keadaan mabuk\n",
            "3 c gerakan bicara pertolongan pertama pada kecelakaan p k bakat\n",
            "4 asuransi mana nih ppatk tidak memberikan rincian secara pasti siapa dan darimana asal partai caleg tersebut saat ini pihaknya telah\n",
            "5 ptjasamarga kunciran km km arah bitung padat ada penanganan kecelakaan kendaraan truk fuso di bahu jalan\n",
            "6 terjadi kecelakaan truk muatan besar di tol kunciran serpong arah bitung akibatnya terjadi kepadatan di lokasi kecelakaan\n",
            "7 plot twist ibunya abis kecelakaan nemenin ke ugd dan baru bisa ditinggal tapi ya ga masalah sih yg penting kan etika profesional\n",
            "8 update lagi jadwal samsat keliling dan samsat desa tertib bayar pajak yuk stop pelanggaran stop kecelakaan keselamatan untuk\n",
            "9 dapet video kejadian kecelakaan tunggal di margonda depok tadi pagi ya allah sedih liatnya sudah biasa liat yg ky gt ga serem tp sedih iya turut berduka buat kalian yg bawa kendaraan jgn lupa berdoa sebelum bepergian hati dan patuhi rambu yaa\n"
          ],
          "name": "stdout"
        }
      ]
    },
    {
      "cell_type": "code",
      "metadata": {
        "colab": {
          "base_uri": "https://localhost:8080/"
        },
        "id": "rNJ31U3BBRqo",
        "outputId": "6ef45d39-15f4-4865-cb96-f9deb3bbc229"
      },
      "source": [
        "#removing stopwords\n",
        "nltk.download('stopwords')\n",
        "def stopword(sentence):\n",
        "    review = [words for words in sentence.split() if words not in set(stopwords.words('indonesian'))]\n",
        "    review = ' '.join(review)\n",
        "    return review\n",
        "print(stopwords.words('indonesian'))\n",
        "new_df['full_text'] = new_df['full_text'].apply(stopword)\n",
        "for i,val in enumerate(new_df['full_text']):\n",
        "  print(i, val)"
      ],
      "execution_count": null,
      "outputs": [
        {
          "output_type": "stream",
          "text": [
            "[nltk_data] Downloading package stopwords to /root/nltk_data...\n",
            "[nltk_data]   Package stopwords is already up-to-date!\n",
            "['ada', 'adalah', 'adanya', 'adapun', 'agak', 'agaknya', 'agar', 'akan', 'akankah', 'akhir', 'akhiri', 'akhirnya', 'aku', 'akulah', 'amat', 'amatlah', 'anda', 'andalah', 'antar', 'antara', 'antaranya', 'apa', 'apaan', 'apabila', 'apakah', 'apalagi', 'apatah', 'artinya', 'asal', 'asalkan', 'atas', 'atau', 'ataukah', 'ataupun', 'awal', 'awalnya', 'bagai', 'bagaikan', 'bagaimana', 'bagaimanakah', 'bagaimanapun', 'bagi', 'bagian', 'bahkan', 'bahwa', 'bahwasanya', 'baik', 'bakal', 'bakalan', 'balik', 'banyak', 'bapak', 'baru', 'bawah', 'beberapa', 'begini', 'beginian', 'beginikah', 'beginilah', 'begitu', 'begitukah', 'begitulah', 'begitupun', 'bekerja', 'belakang', 'belakangan', 'belum', 'belumlah', 'benar', 'benarkah', 'benarlah', 'berada', 'berakhir', 'berakhirlah', 'berakhirnya', 'berapa', 'berapakah', 'berapalah', 'berapapun', 'berarti', 'berawal', 'berbagai', 'berdatangan', 'beri', 'berikan', 'berikut', 'berikutnya', 'berjumlah', 'berkali-kali', 'berkata', 'berkehendak', 'berkeinginan', 'berkenaan', 'berlainan', 'berlalu', 'berlangsung', 'berlebihan', 'bermacam', 'bermacam-macam', 'bermaksud', 'bermula', 'bersama', 'bersama-sama', 'bersiap', 'bersiap-siap', 'bertanya', 'bertanya-tanya', 'berturut', 'berturut-turut', 'bertutur', 'berujar', 'berupa', 'besar', 'betul', 'betulkah', 'biasa', 'biasanya', 'bila', 'bilakah', 'bisa', 'bisakah', 'boleh', 'bolehkah', 'bolehlah', 'buat', 'bukan', 'bukankah', 'bukanlah', 'bukannya', 'bulan', 'bung', 'cara', 'caranya', 'cukup', 'cukupkah', 'cukuplah', 'cuma', 'dahulu', 'dalam', 'dan', 'dapat', 'dari', 'daripada', 'datang', 'dekat', 'demi', 'demikian', 'demikianlah', 'dengan', 'depan', 'di', 'dia', 'diakhiri', 'diakhirinya', 'dialah', 'diantara', 'diantaranya', 'diberi', 'diberikan', 'diberikannya', 'dibuat', 'dibuatnya', 'didapat', 'didatangkan', 'digunakan', 'diibaratkan', 'diibaratkannya', 'diingat', 'diingatkan', 'diinginkan', 'dijawab', 'dijelaskan', 'dijelaskannya', 'dikarenakan', 'dikatakan', 'dikatakannya', 'dikerjakan', 'diketahui', 'diketahuinya', 'dikira', 'dilakukan', 'dilalui', 'dilihat', 'dimaksud', 'dimaksudkan', 'dimaksudkannya', 'dimaksudnya', 'diminta', 'dimintai', 'dimisalkan', 'dimulai', 'dimulailah', 'dimulainya', 'dimungkinkan', 'dini', 'dipastikan', 'diperbuat', 'diperbuatnya', 'dipergunakan', 'diperkirakan', 'diperlihatkan', 'diperlukan', 'diperlukannya', 'dipersoalkan', 'dipertanyakan', 'dipunyai', 'diri', 'dirinya', 'disampaikan', 'disebut', 'disebutkan', 'disebutkannya', 'disini', 'disinilah', 'ditambahkan', 'ditandaskan', 'ditanya', 'ditanyai', 'ditanyakan', 'ditegaskan', 'ditujukan', 'ditunjuk', 'ditunjuki', 'ditunjukkan', 'ditunjukkannya', 'ditunjuknya', 'dituturkan', 'dituturkannya', 'diucapkan', 'diucapkannya', 'diungkapkan', 'dong', 'dua', 'dulu', 'empat', 'enggak', 'enggaknya', 'entah', 'entahlah', 'guna', 'gunakan', 'hal', 'hampir', 'hanya', 'hanyalah', 'hari', 'harus', 'haruslah', 'harusnya', 'hendak', 'hendaklah', 'hendaknya', 'hingga', 'ia', 'ialah', 'ibarat', 'ibaratkan', 'ibaratnya', 'ibu', 'ikut', 'ingat', 'ingat-ingat', 'ingin', 'inginkah', 'inginkan', 'ini', 'inikah', 'inilah', 'itu', 'itukah', 'itulah', 'jadi', 'jadilah', 'jadinya', 'jangan', 'jangankan', 'janganlah', 'jauh', 'jawab', 'jawaban', 'jawabnya', 'jelas', 'jelaskan', 'jelaslah', 'jelasnya', 'jika', 'jikalau', 'juga', 'jumlah', 'jumlahnya', 'justru', 'kala', 'kalau', 'kalaulah', 'kalaupun', 'kalian', 'kami', 'kamilah', 'kamu', 'kamulah', 'kan', 'kapan', 'kapankah', 'kapanpun', 'karena', 'karenanya', 'kasus', 'kata', 'katakan', 'katakanlah', 'katanya', 'ke', 'keadaan', 'kebetulan', 'kecil', 'kedua', 'keduanya', 'keinginan', 'kelamaan', 'kelihatan', 'kelihatannya', 'kelima', 'keluar', 'kembali', 'kemudian', 'kemungkinan', 'kemungkinannya', 'kenapa', 'kepada', 'kepadanya', 'kesampaian', 'keseluruhan', 'keseluruhannya', 'keterlaluan', 'ketika', 'khususnya', 'kini', 'kinilah', 'kira', 'kira-kira', 'kiranya', 'kita', 'kitalah', 'kok', 'kurang', 'lagi', 'lagian', 'lah', 'lain', 'lainnya', 'lalu', 'lama', 'lamanya', 'lanjut', 'lanjutnya', 'lebih', 'lewat', 'lima', 'luar', 'macam', 'maka', 'makanya', 'makin', 'malah', 'malahan', 'mampu', 'mampukah', 'mana', 'manakala', 'manalagi', 'masa', 'masalah', 'masalahnya', 'masih', 'masihkah', 'masing', 'masing-masing', 'mau', 'maupun', 'melainkan', 'melakukan', 'melalui', 'melihat', 'melihatnya', 'memang', 'memastikan', 'memberi', 'memberikan', 'membuat', 'memerlukan', 'memihak', 'meminta', 'memintakan', 'memisalkan', 'memperbuat', 'mempergunakan', 'memperkirakan', 'memperlihatkan', 'mempersiapkan', 'mempersoalkan', 'mempertanyakan', 'mempunyai', 'memulai', 'memungkinkan', 'menaiki', 'menambahkan', 'menandaskan', 'menanti', 'menanti-nanti', 'menantikan', 'menanya', 'menanyai', 'menanyakan', 'mendapat', 'mendapatkan', 'mendatang', 'mendatangi', 'mendatangkan', 'menegaskan', 'mengakhiri', 'mengapa', 'mengatakan', 'mengatakannya', 'mengenai', 'mengerjakan', 'mengetahui', 'menggunakan', 'menghendaki', 'mengibaratkan', 'mengibaratkannya', 'mengingat', 'mengingatkan', 'menginginkan', 'mengira', 'mengucapkan', 'mengucapkannya', 'mengungkapkan', 'menjadi', 'menjawab', 'menjelaskan', 'menuju', 'menunjuk', 'menunjuki', 'menunjukkan', 'menunjuknya', 'menurut', 'menuturkan', 'menyampaikan', 'menyangkut', 'menyatakan', 'menyebutkan', 'menyeluruh', 'menyiapkan', 'merasa', 'mereka', 'merekalah', 'merupakan', 'meski', 'meskipun', 'meyakini', 'meyakinkan', 'minta', 'mirip', 'misal', 'misalkan', 'misalnya', 'mula', 'mulai', 'mulailah', 'mulanya', 'mungkin', 'mungkinkah', 'nah', 'naik', 'namun', 'nanti', 'nantinya', 'nyaris', 'nyatanya', 'oleh', 'olehnya', 'pada', 'padahal', 'padanya', 'pak', 'paling', 'panjang', 'pantas', 'para', 'pasti', 'pastilah', 'penting', 'pentingnya', 'per', 'percuma', 'perlu', 'perlukah', 'perlunya', 'pernah', 'persoalan', 'pertama', 'pertama-tama', 'pertanyaan', 'pertanyakan', 'pihak', 'pihaknya', 'pukul', 'pula', 'pun', 'punya', 'rasa', 'rasanya', 'rata', 'rupanya', 'saat', 'saatnya', 'saja', 'sajalah', 'saling', 'sama', 'sama-sama', 'sambil', 'sampai', 'sampai-sampai', 'sampaikan', 'sana', 'sangat', 'sangatlah', 'satu', 'saya', 'sayalah', 'se', 'sebab', 'sebabnya', 'sebagai', 'sebagaimana', 'sebagainya', 'sebagian', 'sebaik', 'sebaik-baiknya', 'sebaiknya', 'sebaliknya', 'sebanyak', 'sebegini', 'sebegitu', 'sebelum', 'sebelumnya', 'sebenarnya', 'seberapa', 'sebesar', 'sebetulnya', 'sebisanya', 'sebuah', 'sebut', 'sebutlah', 'sebutnya', 'secara', 'secukupnya', 'sedang', 'sedangkan', 'sedemikian', 'sedikit', 'sedikitnya', 'seenaknya', 'segala', 'segalanya', 'segera', 'seharusnya', 'sehingga', 'seingat', 'sejak', 'sejauh', 'sejenak', 'sejumlah', 'sekadar', 'sekadarnya', 'sekali', 'sekali-kali', 'sekalian', 'sekaligus', 'sekalipun', 'sekarang', 'sekarang', 'sekecil', 'seketika', 'sekiranya', 'sekitar', 'sekitarnya', 'sekurang-kurangnya', 'sekurangnya', 'sela', 'selain', 'selaku', 'selalu', 'selama', 'selama-lamanya', 'selamanya', 'selanjutnya', 'seluruh', 'seluruhnya', 'semacam', 'semakin', 'semampu', 'semampunya', 'semasa', 'semasih', 'semata', 'semata-mata', 'semaunya', 'sementara', 'semisal', 'semisalnya', 'sempat', 'semua', 'semuanya', 'semula', 'sendiri', 'sendirian', 'sendirinya', 'seolah', 'seolah-olah', 'seorang', 'sepanjang', 'sepantasnya', 'sepantasnyalah', 'seperlunya', 'seperti', 'sepertinya', 'sepihak', 'sering', 'seringnya', 'serta', 'serupa', 'sesaat', 'sesama', 'sesampai', 'sesegera', 'sesekali', 'seseorang', 'sesuatu', 'sesuatunya', 'sesudah', 'sesudahnya', 'setelah', 'setempat', 'setengah', 'seterusnya', 'setiap', 'setiba', 'setibanya', 'setidak-tidaknya', 'setidaknya', 'setinggi', 'seusai', 'sewaktu', 'siap', 'siapa', 'siapakah', 'siapapun', 'sini', 'sinilah', 'soal', 'soalnya', 'suatu', 'sudah', 'sudahkah', 'sudahlah', 'supaya', 'tadi', 'tadinya', 'tahu', 'tahun', 'tak', 'tambah', 'tambahnya', 'tampak', 'tampaknya', 'tandas', 'tandasnya', 'tanpa', 'tanya', 'tanyakan', 'tanyanya', 'tapi', 'tegas', 'tegasnya', 'telah', 'tempat', 'tengah', 'tentang', 'tentu', 'tentulah', 'tentunya', 'tepat', 'terakhir', 'terasa', 'terbanyak', 'terdahulu', 'terdapat', 'terdiri', 'terhadap', 'terhadapnya', 'teringat', 'teringat-ingat', 'terjadi', 'terjadilah', 'terjadinya', 'terkira', 'terlalu', 'terlebih', 'terlihat', 'termasuk', 'ternyata', 'tersampaikan', 'tersebut', 'tersebutlah', 'tertentu', 'tertuju', 'terus', 'terutama', 'tetap', 'tetapi', 'tiap', 'tiba', 'tiba-tiba', 'tidak', 'tidakkah', 'tidaklah', 'tiga', 'tinggi', 'toh', 'tunjuk', 'turut', 'tutur', 'tuturnya', 'ucap', 'ucapnya', 'ujar', 'ujarnya', 'umum', 'umumnya', 'ungkap', 'ungkapnya', 'untuk', 'usah', 'usai', 'waduh', 'wah', 'wahai', 'waktu', 'waktunya', 'walau', 'walaupun', 'wong', 'yaitu', 'yakin', 'yakni', 'yang']\n",
            "0 rekaman cctv kecelakaan motor pik taman grisenda mhmmdrhmtrmdhn visit wonderful mrahmatramadhan\n",
            "1 tewaskan orang kecelakaan boss boeing maaf\n",
            "2 anggota parlemen taiwan berencana meningkatkan denda maksimum hukuman orang menyetir mabuk\n",
            "3 c gerakan bicara pertolongan kecelakaan p k bakat\n",
            "4 asuransi nih ppatk rincian darimana partai caleg\n",
            "5 ptjasamarga kunciran km km arah bitung padat penanganan kecelakaan kendaraan truk fuso bahu jalan\n",
            "6 kecelakaan truk muatan tol kunciran serpong arah bitung akibatnya kepadatan lokasi kecelakaan\n",
            "7 plot twist ibunya abis kecelakaan nemenin ugd ditinggal ya ga sih yg etika profesional\n",
            "8 update jadwal samsat keliling samsat desa tertib bayar pajak yuk stop pelanggaran stop kecelakaan keselamatan\n",
            "9 dapet video kejadian kecelakaan tunggal margonda depok pagi ya allah sedih liatnya liat yg ky gt ga serem tp sedih iya berduka yg bawa kendaraan jgn lupa berdoa bepergian hati patuhi rambu yaa\n"
          ],
          "name": "stdout"
        }
      ]
    },
    {
      "cell_type": "code",
      "metadata": {
        "colab": {
          "base_uri": "https://localhost:8080/"
        },
        "id": "xs5aH-q4F-Vk",
        "outputId": "55cdbed4-5da9-44e9-bc7e-1b9eb4959f46"
      },
      "source": [
        "#stemming\n",
        "!pip install Sastrawi\n",
        "from Sastrawi.Stemmer.StemmerFactory import StemmerFactory\n",
        "factory = StemmerFactory()\n",
        "stemmer = factory.create_stemmer()\n",
        "\n",
        "new_df['full_text'] = new_df['full_text'].apply(stemmer.stem)\n",
        "for i,val in enumerate(new_df['full_text']):\n",
        "  print(i, val)"
      ],
      "execution_count": null,
      "outputs": [
        {
          "output_type": "stream",
          "text": [
            "Collecting Sastrawi\n",
            "\u001b[?25l  Downloading https://files.pythonhosted.org/packages/6f/4b/bab676953da3103003730b8fcdfadbdd20f333d4add10af949dd5c51e6ed/Sastrawi-1.0.1-py2.py3-none-any.whl (209kB)\n",
            "\r\u001b[K     |█▋                              | 10kB 15.3MB/s eta 0:00:01\r\u001b[K     |███▏                            | 20kB 19.1MB/s eta 0:00:01\r\u001b[K     |████▊                           | 30kB 15.3MB/s eta 0:00:01\r\u001b[K     |██████▎                         | 40kB 13.6MB/s eta 0:00:01\r\u001b[K     |███████▉                        | 51kB 8.0MB/s eta 0:00:01\r\u001b[K     |█████████▍                      | 61kB 7.5MB/s eta 0:00:01\r\u001b[K     |███████████                     | 71kB 8.4MB/s eta 0:00:01\r\u001b[K     |████████████▌                   | 81kB 8.8MB/s eta 0:00:01\r\u001b[K     |██████████████                  | 92kB 8.5MB/s eta 0:00:01\r\u001b[K     |███████████████▋                | 102kB 7.5MB/s eta 0:00:01\r\u001b[K     |█████████████████▏              | 112kB 7.5MB/s eta 0:00:01\r\u001b[K     |██████████████████▊             | 122kB 7.5MB/s eta 0:00:01\r\u001b[K     |████████████████████▎           | 133kB 7.5MB/s eta 0:00:01\r\u001b[K     |█████████████████████▉          | 143kB 7.5MB/s eta 0:00:01\r\u001b[K     |███████████████████████▍        | 153kB 7.5MB/s eta 0:00:01\r\u001b[K     |█████████████████████████       | 163kB 7.5MB/s eta 0:00:01\r\u001b[K     |██████████████████████████▋     | 174kB 7.5MB/s eta 0:00:01\r\u001b[K     |████████████████████████████▏   | 184kB 7.5MB/s eta 0:00:01\r\u001b[K     |█████████████████████████████▊  | 194kB 7.5MB/s eta 0:00:01\r\u001b[K     |███████████████████████████████▎| 204kB 7.5MB/s eta 0:00:01\r\u001b[K     |████████████████████████████████| 215kB 7.5MB/s \n",
            "\u001b[?25hInstalling collected packages: Sastrawi\n",
            "Successfully installed Sastrawi-1.0.1\n",
            "0 rekam cctv celaka motor pik taman grisenda mhmmdrhmtrmdhn visit wonderful mrahmatramadhan\n",
            "1 tewas orang celaka boss boeing maaf\n",
            "2 anggota parlemen taiwan rencana tingkat denda maksimum hukum orang setir mabuk\n",
            "3 c gera bicara tolong celaka p k bakat\n",
            "4 asuransi nih ppatk rincian darimana partai caleg\n",
            "5 ptjasamarga kuncir km km arah bitung padat tangan celaka kendara truk fuso bahu jalan\n",
            "6 celaka truk muat tol kuncir serpong arah bitung akibat padat lokasi celaka\n",
            "7 plot twist ibu abis celaka nemenin ugd tinggal ya ga sih yg etika profesion\n",
            "8 update jadwal samsat keliling samsat desa tertib bayar pajak yuk stop langgar stop celaka selamat\n",
            "9 dapet video jadi celaka tunggal margonda depok pagi ya allah sedih liat liat yg ky gt ga rem tp sedih iya duka yg bawa kendara jgn lupa doa pergi hati patuh rambu yaa\n"
          ],
          "name": "stdout"
        }
      ]
    },
    {
      "cell_type": "code",
      "metadata": {
        "id": "BJfBr3DeGyLU",
        "colab": {
          "base_uri": "https://localhost:8080/"
        },
        "outputId": "2a6171f1-f6d3-432f-cab4-265e9ca80178"
      },
      "source": [
        "#tf-Idf vectorizer\n",
        "vectorizer = TfidfVectorizer() \n",
        "vectorizer.fit_transform(new_df['full_text']) \n",
        "x = vectorizer.fit_transform(new_df['full_text']) \n",
        "y =  new_df['is_accident']\n",
        "\n",
        "\n",
        "#bawah pengecekan\n",
        "print(new_df['full_text'][:1])\n",
        "# print(vectorizer.fit_transform(new_df['full_text'][:1]))\n",
        "# summarize\n",
        "print(vectorizer.vocabulary_)\n",
        "# print(vectorizer.idf_)\n",
        "# summarize encoded vector\n",
        "print(x.shape)\n",
        "i=0\n",
        "print(0, x[0])\n",
        "print(0, x[0].toarray())\n",
        "print(1, x[1])\n",
        "print(1, x[1].toarray())\n",
        "print(2, x[2])\n",
        "print(2, x[2].toarray())\n",
        "print(3, x[3])\n",
        "print(3, x[3].toarray())\n",
        "print(4, x[4])\n",
        "print(4, x[4].toarray())\n",
        "print(5, x[5])\n",
        "print(5, x[5].toarray())\n",
        "print(6, x[6])\n",
        "print(6, x[6].toarray())\n",
        "print(7, x[7])\n",
        "print(7, x[7].toarray())\n",
        "print(8, x[8])\n",
        "print(8, x[8].toarray())\n",
        "print(9, x[9])\n",
        "print(9, x[9].toarray())"
      ],
      "execution_count": null,
      "outputs": [
        {
          "output_type": "stream",
          "text": [
            "0    rekam cctv celaka motor pik taman grisenda mhm...\n",
            "Name: full_text, dtype: object\n",
            "{'rekam': 71, 'cctv': 15, 'celaka': 16, 'motor': 52, 'pik': 65, 'taman': 83, 'grisenda': 28, 'mhmmdrhmtrmdhn': 51, 'visit': 98, 'wonderful': 99, 'mrahmatramadhan': 53, 'tewas': 86, 'orang': 57, 'boss': 13, 'boeing': 12, 'maaf': 47, 'anggota': 3, 'parlemen': 61, 'taiwan': 82, 'rencana': 73, 'tingkat': 88, 'denda': 19, 'maksimum': 49, 'hukum': 31, 'setir': 79, 'mabuk': 48, 'gera': 27, 'bicara': 10, 'tolong': 90, 'bakat': 7, 'asuransi': 5, 'nih': 56, 'ppatk': 67, 'rincian': 74, 'darimana': 18, 'partai': 62, 'caleg': 14, 'ptjasamarga': 69, 'kuncir': 41, 'km': 40, 'arah': 4, 'bitung': 11, 'padat': 58, 'tangan': 84, 'kendara': 39, 'truk': 92, 'fuso': 25, 'bahu': 6, 'jalan': 36, 'muat': 54, 'tol': 89, 'serpong': 78, 'akibat': 1, 'lokasi': 45, 'plot': 66, 'twist': 94, 'ibu': 32, 'abis': 0, 'nemenin': 55, 'ugd': 95, 'tinggal': 87, 'ya': 100, 'ga': 26, 'sih': 80, 'yg': 102, 'etika': 24, 'profesion': 68, 'update': 96, 'jadwal': 35, 'samsat': 75, 'keliling': 38, 'desa': 21, 'tertib': 85, 'bayar': 9, 'pajak': 60, 'yuk': 103, 'stop': 81, 'langgar': 43, 'selamat': 77, 'dapet': 17, 'video': 97, 'jadi': 34, 'tunggal': 93, 'margonda': 50, 'depok': 20, 'pagi': 59, 'allah': 2, 'sedih': 76, 'liat': 44, 'ky': 42, 'gt': 29, 'rem': 72, 'tp': 91, 'iya': 33, 'duka': 23, 'bawa': 8, 'jgn': 37, 'lupa': 46, 'doa': 22, 'pergi': 64, 'hati': 30, 'patuh': 63, 'rambu': 70, 'yaa': 101}\n",
            "(10, 104)\n",
            "0   (0, 53)\t0.3131573102640658\n",
            "  (0, 99)\t0.3131573102640658\n",
            "  (0, 98)\t0.3131573102640658\n",
            "  (0, 51)\t0.3131573102640658\n",
            "  (0, 28)\t0.3131573102640658\n",
            "  (0, 83)\t0.3131573102640658\n",
            "  (0, 65)\t0.3131573102640658\n",
            "  (0, 52)\t0.3131573102640658\n",
            "  (0, 16)\t0.13901435279048088\n",
            "  (0, 15)\t0.3131573102640658\n",
            "  (0, 71)\t0.3131573102640658\n",
            "0 [[0.         0.         0.         0.         0.         0.\n",
            "  0.         0.         0.         0.         0.         0.\n",
            "  0.         0.         0.         0.31315731 0.13901435 0.\n",
            "  0.         0.         0.         0.         0.         0.\n",
            "  0.         0.         0.         0.         0.31315731 0.\n",
            "  0.         0.         0.         0.         0.         0.\n",
            "  0.         0.         0.         0.         0.         0.\n",
            "  0.         0.         0.         0.         0.         0.\n",
            "  0.         0.         0.         0.31315731 0.31315731 0.31315731\n",
            "  0.         0.         0.         0.         0.         0.\n",
            "  0.         0.         0.         0.         0.         0.31315731\n",
            "  0.         0.         0.         0.         0.         0.31315731\n",
            "  0.         0.         0.         0.         0.         0.\n",
            "  0.         0.         0.         0.         0.         0.31315731\n",
            "  0.         0.         0.         0.         0.         0.\n",
            "  0.         0.         0.         0.         0.         0.\n",
            "  0.         0.         0.31315731 0.31315731 0.         0.\n",
            "  0.         0.        ]]\n",
            "1   (0, 47)\t0.45084795039664\n",
            "  (0, 12)\t0.45084795039664\n",
            "  (0, 13)\t0.45084795039664\n",
            "  (0, 57)\t0.3832619472962064\n",
            "  (0, 86)\t0.45084795039664\n",
            "  (0, 16)\t0.2001369087582673\n",
            "1 [[0.         0.         0.         0.         0.         0.\n",
            "  0.         0.         0.         0.         0.         0.\n",
            "  0.45084795 0.45084795 0.         0.         0.20013691 0.\n",
            "  0.         0.         0.         0.         0.         0.\n",
            "  0.         0.         0.         0.         0.         0.\n",
            "  0.         0.         0.         0.         0.         0.\n",
            "  0.         0.         0.         0.         0.         0.\n",
            "  0.         0.         0.         0.         0.         0.45084795\n",
            "  0.         0.         0.         0.         0.         0.\n",
            "  0.         0.         0.         0.38326195 0.         0.\n",
            "  0.         0.         0.         0.         0.         0.\n",
            "  0.         0.         0.         0.         0.         0.\n",
            "  0.         0.         0.         0.         0.         0.\n",
            "  0.         0.         0.         0.         0.         0.\n",
            "  0.         0.         0.45084795 0.         0.         0.\n",
            "  0.         0.         0.         0.         0.         0.\n",
            "  0.         0.         0.         0.         0.         0.\n",
            "  0.         0.        ]]\n",
            "2   (0, 48)\t0.30538579153971074\n",
            "  (0, 79)\t0.30538579153971074\n",
            "  (0, 31)\t0.30538579153971074\n",
            "  (0, 49)\t0.30538579153971074\n",
            "  (0, 19)\t0.30538579153971074\n",
            "  (0, 88)\t0.30538579153971074\n",
            "  (0, 73)\t0.30538579153971074\n",
            "  (0, 82)\t0.30538579153971074\n",
            "  (0, 61)\t0.30538579153971074\n",
            "  (0, 3)\t0.30538579153971074\n",
            "  (0, 57)\t0.2596058228481084\n",
            "2 [[0.         0.         0.         0.30538579 0.         0.\n",
            "  0.         0.         0.         0.         0.         0.\n",
            "  0.         0.         0.         0.         0.         0.\n",
            "  0.         0.30538579 0.         0.         0.         0.\n",
            "  0.         0.         0.         0.         0.         0.\n",
            "  0.         0.30538579 0.         0.         0.         0.\n",
            "  0.         0.         0.         0.         0.         0.\n",
            "  0.         0.         0.         0.         0.         0.\n",
            "  0.30538579 0.30538579 0.         0.         0.         0.\n",
            "  0.         0.         0.         0.25960582 0.         0.\n",
            "  0.         0.30538579 0.         0.         0.         0.\n",
            "  0.         0.         0.         0.         0.         0.\n",
            "  0.         0.30538579 0.         0.         0.         0.\n",
            "  0.         0.30538579 0.         0.         0.30538579 0.\n",
            "  0.         0.         0.         0.         0.30538579 0.\n",
            "  0.         0.         0.         0.         0.         0.\n",
            "  0.         0.         0.         0.         0.         0.\n",
            "  0.         0.        ]]\n",
            "3   (0, 7)\t0.4881210222286525\n",
            "  (0, 90)\t0.4881210222286525\n",
            "  (0, 10)\t0.4881210222286525\n",
            "  (0, 27)\t0.4881210222286525\n",
            "  (0, 16)\t0.21668288034319083\n",
            "3 [[0.         0.         0.         0.         0.         0.\n",
            "  0.         0.48812102 0.         0.         0.48812102 0.\n",
            "  0.         0.         0.         0.         0.21668288 0.\n",
            "  0.         0.         0.         0.         0.         0.\n",
            "  0.         0.         0.         0.48812102 0.         0.\n",
            "  0.         0.         0.         0.         0.         0.\n",
            "  0.         0.         0.         0.         0.         0.\n",
            "  0.         0.         0.         0.         0.         0.\n",
            "  0.         0.         0.         0.         0.         0.\n",
            "  0.         0.         0.         0.         0.         0.\n",
            "  0.         0.         0.         0.         0.         0.\n",
            "  0.         0.         0.         0.         0.         0.\n",
            "  0.         0.         0.         0.         0.         0.\n",
            "  0.         0.         0.         0.         0.         0.\n",
            "  0.         0.         0.         0.         0.         0.\n",
            "  0.48812102 0.         0.         0.         0.         0.\n",
            "  0.         0.         0.         0.         0.         0.\n",
            "  0.         0.        ]]\n",
            "4   (0, 14)\t0.3779644730092272\n",
            "  (0, 62)\t0.3779644730092272\n",
            "  (0, 18)\t0.3779644730092272\n",
            "  (0, 74)\t0.3779644730092272\n",
            "  (0, 67)\t0.3779644730092272\n",
            "  (0, 56)\t0.3779644730092272\n",
            "  (0, 5)\t0.3779644730092272\n",
            "4 [[0.         0.         0.         0.         0.         0.37796447\n",
            "  0.         0.         0.         0.         0.         0.\n",
            "  0.         0.         0.37796447 0.         0.         0.\n",
            "  0.37796447 0.         0.         0.         0.         0.\n",
            "  0.         0.         0.         0.         0.         0.\n",
            "  0.         0.         0.         0.         0.         0.\n",
            "  0.         0.         0.         0.         0.         0.\n",
            "  0.         0.         0.         0.         0.         0.\n",
            "  0.         0.         0.         0.         0.         0.\n",
            "  0.         0.         0.37796447 0.         0.         0.\n",
            "  0.         0.         0.37796447 0.         0.         0.\n",
            "  0.         0.37796447 0.         0.         0.         0.\n",
            "  0.         0.         0.37796447 0.         0.         0.\n",
            "  0.         0.         0.         0.         0.         0.\n",
            "  0.         0.         0.         0.         0.         0.\n",
            "  0.         0.         0.         0.         0.         0.\n",
            "  0.         0.         0.         0.         0.         0.\n",
            "  0.         0.        ]]\n",
            "5   (0, 36)\t0.2718335895730569\n",
            "  (0, 6)\t0.2718335895730569\n",
            "  (0, 25)\t0.2718335895730569\n",
            "  (0, 92)\t0.23108338584800184\n",
            "  (0, 39)\t0.23108338584800184\n",
            "  (0, 84)\t0.2718335895730569\n",
            "  (0, 58)\t0.23108338584800184\n",
            "  (0, 11)\t0.23108338584800184\n",
            "  (0, 4)\t0.23108338584800184\n",
            "  (0, 40)\t0.5436671791461138\n",
            "  (0, 41)\t0.23108338584800184\n",
            "  (0, 69)\t0.2718335895730569\n",
            "  (0, 16)\t0.120670248730093\n",
            "5 [[0.         0.         0.         0.         0.23108339 0.\n",
            "  0.27183359 0.         0.         0.         0.         0.23108339\n",
            "  0.         0.         0.         0.         0.12067025 0.\n",
            "  0.         0.         0.         0.         0.         0.\n",
            "  0.         0.27183359 0.         0.         0.         0.\n",
            "  0.         0.         0.         0.         0.         0.\n",
            "  0.27183359 0.         0.         0.23108339 0.54366718 0.23108339\n",
            "  0.         0.         0.         0.         0.         0.\n",
            "  0.         0.         0.         0.         0.         0.\n",
            "  0.         0.         0.         0.         0.23108339 0.\n",
            "  0.         0.         0.         0.         0.         0.\n",
            "  0.         0.         0.         0.27183359 0.         0.\n",
            "  0.         0.         0.         0.         0.         0.\n",
            "  0.         0.         0.         0.         0.         0.\n",
            "  0.27183359 0.         0.         0.         0.         0.\n",
            "  0.         0.         0.23108339 0.         0.         0.\n",
            "  0.         0.         0.         0.         0.         0.\n",
            "  0.         0.        ]]\n",
            "6   (0, 45)\t0.32613786341314216\n",
            "  (0, 1)\t0.32613786341314216\n",
            "  (0, 78)\t0.32613786341314216\n",
            "  (0, 89)\t0.32613786341314216\n",
            "  (0, 54)\t0.32613786341314216\n",
            "  (0, 92)\t0.27724697984936564\n",
            "  (0, 58)\t0.27724697984936564\n",
            "  (0, 11)\t0.27724697984936564\n",
            "  (0, 4)\t0.27724697984936564\n",
            "  (0, 41)\t0.27724697984936564\n",
            "  (0, 16)\t0.2895531575783281\n",
            "6 [[0.         0.32613786 0.         0.         0.27724698 0.\n",
            "  0.         0.         0.         0.         0.         0.27724698\n",
            "  0.         0.         0.         0.         0.28955316 0.\n",
            "  0.         0.         0.         0.         0.         0.\n",
            "  0.         0.         0.         0.         0.         0.\n",
            "  0.         0.         0.         0.         0.         0.\n",
            "  0.         0.         0.         0.         0.         0.27724698\n",
            "  0.         0.         0.         0.32613786 0.         0.\n",
            "  0.         0.         0.         0.         0.         0.\n",
            "  0.32613786 0.         0.         0.         0.27724698 0.\n",
            "  0.         0.         0.         0.         0.         0.\n",
            "  0.         0.         0.         0.         0.         0.\n",
            "  0.         0.         0.         0.         0.         0.\n",
            "  0.32613786 0.         0.         0.         0.         0.\n",
            "  0.         0.         0.         0.         0.         0.32613786\n",
            "  0.         0.         0.27724698 0.         0.         0.\n",
            "  0.         0.         0.         0.         0.         0.\n",
            "  0.         0.        ]]\n",
            "7   (0, 68)\t0.2843822709821607\n",
            "  (0, 24)\t0.2843822709821607\n",
            "  (0, 102)\t0.24175091149300398\n",
            "  (0, 80)\t0.2843822709821607\n",
            "  (0, 26)\t0.24175091149300398\n",
            "  (0, 100)\t0.24175091149300398\n",
            "  (0, 87)\t0.2843822709821607\n",
            "  (0, 95)\t0.2843822709821607\n",
            "  (0, 55)\t0.2843822709821607\n",
            "  (0, 0)\t0.2843822709821607\n",
            "  (0, 32)\t0.2843822709821607\n",
            "  (0, 94)\t0.2843822709821607\n",
            "  (0, 66)\t0.2843822709821607\n",
            "  (0, 16)\t0.12624076159147093\n",
            "7 [[0.28438227 0.         0.         0.         0.         0.\n",
            "  0.         0.         0.         0.         0.         0.\n",
            "  0.         0.         0.         0.         0.12624076 0.\n",
            "  0.         0.         0.         0.         0.         0.\n",
            "  0.28438227 0.         0.24175091 0.         0.         0.\n",
            "  0.         0.         0.28438227 0.         0.         0.\n",
            "  0.         0.         0.         0.         0.         0.\n",
            "  0.         0.         0.         0.         0.         0.\n",
            "  0.         0.         0.         0.         0.         0.\n",
            "  0.         0.28438227 0.         0.         0.         0.\n",
            "  0.         0.         0.         0.         0.         0.\n",
            "  0.28438227 0.         0.28438227 0.         0.         0.\n",
            "  0.         0.         0.         0.         0.         0.\n",
            "  0.         0.         0.28438227 0.         0.         0.\n",
            "  0.         0.         0.         0.28438227 0.         0.\n",
            "  0.         0.         0.         0.         0.28438227 0.28438227\n",
            "  0.         0.         0.         0.         0.24175091 0.\n",
            "  0.24175091 0.        ]]\n",
            "8   (0, 77)\t0.23442256293838928\n",
            "  (0, 43)\t0.23442256293838928\n",
            "  (0, 81)\t0.46884512587677857\n",
            "  (0, 103)\t0.23442256293838928\n",
            "  (0, 60)\t0.23442256293838928\n",
            "  (0, 9)\t0.23442256293838928\n",
            "  (0, 85)\t0.23442256293838928\n",
            "  (0, 21)\t0.23442256293838928\n",
            "  (0, 38)\t0.23442256293838928\n",
            "  (0, 75)\t0.46884512587677857\n",
            "  (0, 35)\t0.23442256293838928\n",
            "  (0, 96)\t0.23442256293838928\n",
            "  (0, 16)\t0.1040630373242332\n",
            "8 [[0.         0.         0.         0.         0.         0.\n",
            "  0.         0.         0.         0.23442256 0.         0.\n",
            "  0.         0.         0.         0.         0.10406304 0.\n",
            "  0.         0.         0.         0.23442256 0.         0.\n",
            "  0.         0.         0.         0.         0.         0.\n",
            "  0.         0.         0.         0.         0.         0.23442256\n",
            "  0.         0.         0.23442256 0.         0.         0.\n",
            "  0.         0.23442256 0.         0.         0.         0.\n",
            "  0.         0.         0.         0.         0.         0.\n",
            "  0.         0.         0.         0.         0.         0.\n",
            "  0.23442256 0.         0.         0.         0.         0.\n",
            "  0.         0.         0.         0.         0.         0.\n",
            "  0.         0.         0.         0.46884513 0.         0.23442256\n",
            "  0.         0.         0.         0.46884513 0.         0.\n",
            "  0.         0.23442256 0.         0.         0.         0.\n",
            "  0.         0.         0.         0.         0.         0.\n",
            "  0.23442256 0.         0.         0.         0.         0.\n",
            "  0.         0.23442256]]\n",
            "9   (0, 101)\t0.1660780283680619\n",
            "  (0, 70)\t0.1660780283680619\n",
            "  (0, 63)\t0.1660780283680619\n",
            "  (0, 30)\t0.1660780283680619\n",
            "  (0, 64)\t0.1660780283680619\n",
            "  (0, 22)\t0.1660780283680619\n",
            "  (0, 46)\t0.1660780283680619\n",
            "  (0, 37)\t0.1660780283680619\n",
            "  (0, 8)\t0.1660780283680619\n",
            "  (0, 23)\t0.1660780283680619\n",
            "  (0, 33)\t0.1660780283680619\n",
            "  (0, 91)\t0.1660780283680619\n",
            "  (0, 72)\t0.1660780283680619\n",
            "  (0, 29)\t0.1660780283680619\n",
            "  (0, 42)\t0.1660780283680619\n",
            "  (0, 44)\t0.3321560567361238\n",
            "  (0, 76)\t0.3321560567361238\n",
            "  (0, 2)\t0.1660780283680619\n",
            "  (0, 59)\t0.1660780283680619\n",
            "  (0, 20)\t0.1660780283680619\n",
            "  (0, 50)\t0.1660780283680619\n",
            "  (0, 93)\t0.1660780283680619\n",
            "  (0, 34)\t0.1660780283680619\n",
            "  (0, 97)\t0.1660780283680619\n",
            "  (0, 17)\t0.1660780283680619\n",
            "  (0, 102)\t0.2823629939959127\n",
            "  (0, 26)\t0.14118149699795635\n",
            "  (0, 100)\t0.14118149699795635\n",
            "  (0, 39)\t0.14118149699795635\n",
            "  (0, 16)\t0.07372406413516978\n",
            "9 [[0.         0.         0.16607803 0.         0.         0.\n",
            "  0.         0.         0.16607803 0.         0.         0.\n",
            "  0.         0.         0.         0.         0.07372406 0.16607803\n",
            "  0.         0.         0.16607803 0.         0.16607803 0.16607803\n",
            "  0.         0.         0.1411815  0.         0.         0.16607803\n",
            "  0.16607803 0.         0.         0.16607803 0.16607803 0.\n",
            "  0.         0.16607803 0.         0.1411815  0.         0.\n",
            "  0.16607803 0.         0.33215606 0.         0.16607803 0.\n",
            "  0.         0.         0.16607803 0.         0.         0.\n",
            "  0.         0.         0.         0.         0.         0.16607803\n",
            "  0.         0.         0.         0.16607803 0.16607803 0.\n",
            "  0.         0.         0.         0.         0.16607803 0.\n",
            "  0.16607803 0.         0.         0.         0.33215606 0.\n",
            "  0.         0.         0.         0.         0.         0.\n",
            "  0.         0.         0.         0.         0.         0.\n",
            "  0.         0.16607803 0.         0.16607803 0.         0.\n",
            "  0.         0.16607803 0.         0.         0.1411815  0.16607803\n",
            "  0.28236299 0.        ]]\n"
          ],
          "name": "stdout"
        }
      ]
    },
    {
      "cell_type": "markdown",
      "metadata": {
        "id": "ONheYIOX-NYw"
      },
      "source": [
        "#Data Split\n",
        "\n"
      ]
    },
    {
      "cell_type": "code",
      "metadata": {
        "id": "HsWpEKXGDrPB",
        "colab": {
          "base_uri": "https://localhost:8080/"
        },
        "outputId": "744ec99c-cd2f-439f-d696-d97a49145ccf"
      },
      "source": [
        "x_train,x_test,y_train,y_test = train_test_split(x,y,test_size=0.3)\n",
        "y_test"
      ],
      "execution_count": null,
      "outputs": [
        {
          "output_type": "execute_result",
          "data": {
            "text/plain": [
              "9    0\n",
              "5    1\n",
              "8    0\n",
              "Name: is_accident, dtype: int64"
            ]
          },
          "metadata": {
            "tags": []
          },
          "execution_count": 151
        }
      ]
    },
    {
      "cell_type": "markdown",
      "metadata": {
        "id": "YqPP2sSwHUgk"
      },
      "source": [
        "# Random Forest Classifier"
      ]
    },
    {
      "cell_type": "code",
      "metadata": {
        "colab": {
          "base_uri": "https://localhost:8080/"
        },
        "id": "OmJ52MtIHW4O",
        "outputId": "ad254485-ea17-4251-96c6-e8de22717391"
      },
      "source": [
        "classifier = RandomForestClassifier()\n",
        "classifier.fit(x_train,y_train)"
      ],
      "execution_count": null,
      "outputs": [
        {
          "output_type": "execute_result",
          "data": {
            "text/plain": [
              "RandomForestClassifier(bootstrap=True, ccp_alpha=0.0, class_weight=None,\n",
              "                       criterion='gini', max_depth=None, max_features='auto',\n",
              "                       max_leaf_nodes=None, max_samples=None,\n",
              "                       min_impurity_decrease=0.0, min_impurity_split=None,\n",
              "                       min_samples_leaf=1, min_samples_split=2,\n",
              "                       min_weight_fraction_leaf=0.0, n_estimators=100,\n",
              "                       n_jobs=None, oob_score=False, random_state=None,\n",
              "                       verbose=0, warm_start=False)"
            ]
          },
          "metadata": {
            "tags": []
          },
          "execution_count": 155
        }
      ]
    },
    {
      "cell_type": "markdown",
      "metadata": {
        "id": "enf4442WHig_"
      },
      "source": [
        "#Model Analysis"
      ]
    },
    {
      "cell_type": "code",
      "metadata": {
        "colab": {
          "base_uri": "https://localhost:8080/"
        },
        "id": "asmvq7qyHnQE",
        "outputId": "47513ad3-6d81-47fb-d1ea-ec92718e180d"
      },
      "source": [
        "#making predictions\n",
        "y_pred = classifier.predict(x_test)\n",
        "#model accuracy\n",
        "print(\"Model Accuracy : {}\".format((y_pred == y_test).mean()))\n",
        "#confusion matrix \n",
        "print(confusion_matrix(y_test,y_pred))"
      ],
      "execution_count": null,
      "outputs": [
        {
          "output_type": "stream",
          "text": [
            "Model Accuracy : 1.0\n",
            "[[2 0]\n",
            " [0 1]]\n"
          ],
          "name": "stdout"
        }
      ]
    },
    {
      "cell_type": "code",
      "metadata": {
        "colab": {
          "base_uri": "https://localhost:8080/",
          "height": 554
        },
        "id": "b1pK0qxAuLat",
        "outputId": "16b99adb-ab14-443d-b6c3-af6131bfde69"
      },
      "source": [
        "from sklearn import tree\n",
        "tree.plot_tree(classifier)"
      ],
      "execution_count": null,
      "outputs": [
        {
          "output_type": "error",
          "ename": "AttributeError",
          "evalue": "ignored",
          "traceback": [
            "\u001b[0;31m---------------------------------------------------------------------------\u001b[0m",
            "\u001b[0;31mAttributeError\u001b[0m                            Traceback (most recent call last)",
            "\u001b[0;32m<ipython-input-161-dbf7d07cb127>\u001b[0m in \u001b[0;36m<module>\u001b[0;34m()\u001b[0m\n\u001b[1;32m      1\u001b[0m \u001b[0;32mfrom\u001b[0m \u001b[0msklearn\u001b[0m \u001b[0;32mimport\u001b[0m \u001b[0mtree\u001b[0m\u001b[0;34m\u001b[0m\u001b[0;34m\u001b[0m\u001b[0m\n\u001b[0;32m----> 2\u001b[0;31m \u001b[0mtree\u001b[0m\u001b[0;34m.\u001b[0m\u001b[0mplot_tree\u001b[0m\u001b[0;34m(\u001b[0m\u001b[0mclassifier\u001b[0m\u001b[0;34m)\u001b[0m\u001b[0;34m\u001b[0m\u001b[0;34m\u001b[0m\u001b[0m\n\u001b[0m",
            "\u001b[0;32m/usr/local/lib/python3.7/dist-packages/sklearn/tree/_export.py\u001b[0m in \u001b[0;36mplot_tree\u001b[0;34m(decision_tree, max_depth, feature_names, class_names, label, filled, impurity, node_ids, proportion, rotate, rounded, precision, ax, fontsize)\u001b[0m\n\u001b[1;32m    174\u001b[0m         \u001b[0mproportion\u001b[0m\u001b[0;34m=\u001b[0m\u001b[0mproportion\u001b[0m\u001b[0;34m,\u001b[0m \u001b[0mrotate\u001b[0m\u001b[0;34m=\u001b[0m\u001b[0mrotate\u001b[0m\u001b[0;34m,\u001b[0m \u001b[0mrounded\u001b[0m\u001b[0;34m=\u001b[0m\u001b[0mrounded\u001b[0m\u001b[0;34m,\u001b[0m\u001b[0;34m\u001b[0m\u001b[0;34m\u001b[0m\u001b[0m\n\u001b[1;32m    175\u001b[0m         precision=precision, fontsize=fontsize)\n\u001b[0;32m--> 176\u001b[0;31m     \u001b[0;32mreturn\u001b[0m \u001b[0mexporter\u001b[0m\u001b[0;34m.\u001b[0m\u001b[0mexport\u001b[0m\u001b[0;34m(\u001b[0m\u001b[0mdecision_tree\u001b[0m\u001b[0;34m,\u001b[0m \u001b[0max\u001b[0m\u001b[0;34m=\u001b[0m\u001b[0max\u001b[0m\u001b[0;34m)\u001b[0m\u001b[0;34m\u001b[0m\u001b[0;34m\u001b[0m\u001b[0m\n\u001b[0m\u001b[1;32m    177\u001b[0m \u001b[0;34m\u001b[0m\u001b[0m\n\u001b[1;32m    178\u001b[0m \u001b[0;34m\u001b[0m\u001b[0m\n",
            "\u001b[0;32m/usr/local/lib/python3.7/dist-packages/sklearn/tree/_export.py\u001b[0m in \u001b[0;36mexport\u001b[0;34m(self, decision_tree, ax)\u001b[0m\n\u001b[1;32m    564\u001b[0m         \u001b[0max\u001b[0m\u001b[0;34m.\u001b[0m\u001b[0mclear\u001b[0m\u001b[0;34m(\u001b[0m\u001b[0;34m)\u001b[0m\u001b[0;34m\u001b[0m\u001b[0;34m\u001b[0m\u001b[0m\n\u001b[1;32m    565\u001b[0m         \u001b[0max\u001b[0m\u001b[0;34m.\u001b[0m\u001b[0mset_axis_off\u001b[0m\u001b[0;34m(\u001b[0m\u001b[0;34m)\u001b[0m\u001b[0;34m\u001b[0m\u001b[0;34m\u001b[0m\u001b[0m\n\u001b[0;32m--> 566\u001b[0;31m         my_tree = self._make_tree(0, decision_tree.tree_,\n\u001b[0m\u001b[1;32m    567\u001b[0m                                   decision_tree.criterion)\n\u001b[1;32m    568\u001b[0m         \u001b[0mdraw_tree\u001b[0m \u001b[0;34m=\u001b[0m \u001b[0mbuchheim\u001b[0m\u001b[0;34m(\u001b[0m\u001b[0mmy_tree\u001b[0m\u001b[0;34m)\u001b[0m\u001b[0;34m\u001b[0m\u001b[0;34m\u001b[0m\u001b[0m\n",
            "\u001b[0;31mAttributeError\u001b[0m: 'RandomForestClassifier' object has no attribute 'tree_'"
          ]
        },
        {
          "output_type": "display_data",
          "data": {
            "image/png": "[encoded data removed]",
            "text/plain": [
              "<Figure size 432x288 with 1 Axes>"
            ]
          },
          "metadata": {
            "tags": [],
            "needs_background": "light"
          }
        }
      ]
    },
    {
      "cell_type": "code",
      "metadata": {
        "colab": {
          "base_uri": "https://localhost:8080/",
          "height": 180
        },
        "id": "mFE4ROYN0mjA",
        "outputId": "3e278554-7baa-4516-cee2-da1f6b347edf"
      },
      "source": [
        "text_representation = classifier.base_estimator_.tree_.node_count\n",
        "print(text_representation)"
      ],
      "execution_count": null,
      "outputs": [
        {
          "output_type": "error",
          "ename": "AttributeError",
          "evalue": "ignored",
          "traceback": [
            "\u001b[0;31m---------------------------------------------------------------------------\u001b[0m",
            "\u001b[0;31mAttributeError\u001b[0m                            Traceback (most recent call last)",
            "\u001b[0;32m<ipython-input-162-02e32614c5b7>\u001b[0m in \u001b[0;36m<module>\u001b[0;34m()\u001b[0m\n\u001b[0;32m----> 1\u001b[0;31m \u001b[0mtext_representation\u001b[0m \u001b[0;34m=\u001b[0m \u001b[0mclassifier\u001b[0m\u001b[0;34m.\u001b[0m\u001b[0mbase_estimator_\u001b[0m\u001b[0;34m.\u001b[0m\u001b[0mtree_\u001b[0m\u001b[0;34m.\u001b[0m\u001b[0mnode_count\u001b[0m\u001b[0;34m\u001b[0m\u001b[0;34m\u001b[0m\u001b[0m\n\u001b[0m\u001b[1;32m      2\u001b[0m \u001b[0mprint\u001b[0m\u001b[0;34m(\u001b[0m\u001b[0mtext_representation\u001b[0m\u001b[0;34m)\u001b[0m\u001b[0;34m\u001b[0m\u001b[0;34m\u001b[0m\u001b[0m\n",
            "\u001b[0;31mAttributeError\u001b[0m: 'DecisionTreeClassifier' object has no attribute 'tree_'"
          ]
        }
      ]
    }
  ]
}
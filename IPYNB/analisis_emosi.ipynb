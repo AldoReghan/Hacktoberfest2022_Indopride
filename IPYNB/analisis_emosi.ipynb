{
  "nbformat": 4,
  "nbformat_minor": 0,
  "metadata": {
    "colab": {
      "name": "analisis_emosi (1).ipynb",
      "provenance": []
    },
    "kernelspec": {
      "name": "python3",
      "display_name": "Python 3"
    },
    "language_info": {
      "name": "python"
    },
    "accelerator": "GPU"
  },
  "cells": [
    {
      "cell_type": "code",
      "metadata": {
        "id": "LlDZwvDP0uQ9"
      },
      "source": [
        "def get_emotion(input):\n",
        "    df = {'Word': ['berantas','jahat','kejahatan','teroris','leceh','bunuh','gugur','serang','kecam','tindak','sasar','perintah','langgar','baik',\n",
        "                   'bumihangus','bakar','hilang','berjuang','lawan','rusak','tangkap','tumpas','curiga','berantas','konflik',\n",
        "                   'aman','nyaman','bela','tembak','teror','keji','selidik','sejahtera','resah','ancam','demo','hancur','ribut','bahaya','ofensif',\n",
        "                   'bubar','tewas','korban','pulih','hambat','keamanan','jamin','benar','brutal','damai','iri','biadab','lawan','jenguk','luka','evaluasi',\n",
        "                   'pelanggaran','dukung','bangsat','separatis','tobat','aksi','bantai','benci','bangun','maju','sidik','lapor','caci maki','fitnah','emosi',\n",
        "                   'kemarahan','kalah','trauma','tempur','tega','bantai','desak','tuding','hoax','setuju','buruk','kejam','ganas','bacot','lonte','hoaks',\n",
        "                   'serbu','goblok','ga becus','buang','setan','rusuh','stop','diskriminasi','kapitalisme','kolonialisme','militerisme','waspada','cegah',\n",
        "                   'tolak','gugat','cerdas','waras','sengsara','ricuh','hormat','tragedi','negoisasi','sedih','makar','tolol','kritik','dekil','buluk',\n",
        "                   'hajar','menderita','kacau','provokasi','takut','cinta','jaya','bungkam','jaga','solid','bom'], \n",
        "          'Emotion': ['anger','anger','anger','fear','anger','anger','sad','anger','anger','anger','anger','anger','anger','happy','anger','anger','sad',\n",
        "                      'anger','anger','anger','anger','anger','surprise','anger','anger','happy','happy','happy','anger','anger','anger','surprise','happy',\n",
        "                      'fear','anger','anger','anger','anger','anger','anger','anger','sad','sad','happy','sad','anger','happy','happy','anger','happy',\n",
        "                      'surprise','anger','anger','happy','sad','anger','anger','happy','anger','anger','happy','anger','anger','anger','happy','happy',\n",
        "                      'surprise','surprise','anger','anger','anger','anger','sad','sad','anger','sad','anger','anger','anger','surprise','happy','anger',\n",
        "                      'anger','anger','anger','anger','surprise','anger','anger','anger','anger','anger','anger','fear','fear','fear','fear','fear','fear',\n",
        "                      'fear','fear','fear','happy','happy','sad','anger','happy','sad','happy','sad','anger','anger','anger','anger','anger','anger','sad',\n",
        "                      'anger','anger','fear','happy','happy','fear','fear','happy','anger']}\n",
        "    text = data['CleanTweet']\n",
        "    emotion_values = []\n",
        "    emotions = {\"happy\": 0, \"angry\": 0, \"surprise\": 0, \"sad\": 0, \"fear\": 0}\n",
        "    y = 0\n",
        "    try:\n",
        "        for i in text:\n",
        "            try:\n",
        "                a = df['Word'].index(i)\n",
        "                if a:\n",
        "                    emotions[df['Emotion'][a]] += 1\n",
        "            except:\n",
        "                pass\n",
        "        if sum(emotions.values()) is 0:\n",
        "            return emotions\n",
        "        for i in emotions:\n",
        "            emotion_values.append(round((emotions[i] / sum(emotions.values())), 2))\n",
        "        for j in emotions:\n",
        "            emotions[j] = emotion_values[y]\n",
        "            y += 1\n",
        "        return emotions\n",
        "    except:\n",
        "        pass\n"
      ],
      "execution_count": null,
      "outputs": []
    },
    {
      "cell_type": "code",
      "metadata": {
        "colab": {
          "base_uri": "https://localhost:8080/",
          "height": 204
        },
        "id": "36xxQpq24_2t",
        "outputId": "5653a62a-4b60-4efa-953d-f510c4a77eb9"
      },
      "source": [
        "import pandas as pd\n",
        "data = pd.read_csv('sentimen_kkbpapua_0.csv')\n",
        "data.head()"
      ],
      "execution_count": null,
      "outputs": [
        {
          "output_type": "execute_result",
          "data": {
            "text/html": [
              "<div>\n",
              "<style scoped>\n",
              "    .dataframe tbody tr th:only-of-type {\n",
              "        vertical-align: middle;\n",
              "    }\n",
              "\n",
              "    .dataframe tbody tr th {\n",
              "        vertical-align: top;\n",
              "    }\n",
              "\n",
              "    .dataframe thead th {\n",
              "        text-align: right;\n",
              "    }\n",
              "</style>\n",
              "<table border=\"1\" class=\"dataframe\">\n",
              "  <thead>\n",
              "    <tr style=\"text-align: right;\">\n",
              "      <th></th>\n",
              "      <th>Unnamed: 0</th>\n",
              "      <th>CleanTweet</th>\n",
              "      <th>hasil_analisis</th>\n",
              "    </tr>\n",
              "  </thead>\n",
              "  <tbody>\n",
              "    <tr>\n",
              "      <th>0</th>\n",
              "      <td>0</td>\n",
              "      <td>b fadli zon peanyakan densus tugas berantas kk...</td>\n",
              "      <td>0</td>\n",
              "    </tr>\n",
              "    <tr>\n",
              "      <th>1</th>\n",
              "      <td>1</td>\n",
              "      <td>bfadli zon peanyakan densus tugas berantas kkb...</td>\n",
              "      <td>0</td>\n",
              "    </tr>\n",
              "    <tr>\n",
              "      <th>2</th>\n",
              "      <td>2</td>\n",
              "      <td>b densus tugas utk hadap kkb papua contoh bhw ...</td>\n",
              "      <td>0</td>\n",
              "    </tr>\n",
              "    <tr>\n",
              "      <th>3</th>\n",
              "      <td>3</td>\n",
              "      <td>b densus tugas utk hadap kkb papua contoh bhw ...</td>\n",
              "      <td>0</td>\n",
              "    </tr>\n",
              "    <tr>\n",
              "      <th>4</th>\n",
              "      <td>4</td>\n",
              "      <td>b densus tugas utk hadap kkb papua contoh bhw ...</td>\n",
              "      <td>0</td>\n",
              "    </tr>\n",
              "  </tbody>\n",
              "</table>\n",
              "</div>"
            ],
            "text/plain": [
              "   Unnamed: 0  ... hasil_analisis\n",
              "0           0  ...              0\n",
              "1           1  ...              0\n",
              "2           2  ...              0\n",
              "3           3  ...              0\n",
              "4           4  ...              0\n",
              "\n",
              "[5 rows x 3 columns]"
            ]
          },
          "metadata": {},
          "execution_count": 7
        }
      ]
    },
    {
      "cell_type": "code",
      "metadata": {
        "colab": {
          "base_uri": "https://localhost:8080/",
          "height": 419
        },
        "id": "qj1AdM9P7cfn",
        "outputId": "2014bee5-9c9f-4d00-e87c-f905e8d03d86"
      },
      "source": [
        "data.drop(['Unnamed: 0', 'hasil_analisis'], axis=1, inplace=True)\n",
        "data"
      ],
      "execution_count": null,
      "outputs": [
        {
          "output_type": "execute_result",
          "data": {
            "text/html": [
              "<div>\n",
              "<style scoped>\n",
              "    .dataframe tbody tr th:only-of-type {\n",
              "        vertical-align: middle;\n",
              "    }\n",
              "\n",
              "    .dataframe tbody tr th {\n",
              "        vertical-align: top;\n",
              "    }\n",
              "\n",
              "    .dataframe thead th {\n",
              "        text-align: right;\n",
              "    }\n",
              "</style>\n",
              "<table border=\"1\" class=\"dataframe\">\n",
              "  <thead>\n",
              "    <tr style=\"text-align: right;\">\n",
              "      <th></th>\n",
              "      <th>CleanTweet</th>\n",
              "    </tr>\n",
              "  </thead>\n",
              "  <tbody>\n",
              "    <tr>\n",
              "      <th>0</th>\n",
              "      <td>b fadli zon peanyakan densus tugas berantas kk...</td>\n",
              "    </tr>\n",
              "    <tr>\n",
              "      <th>1</th>\n",
              "      <td>bfadli zon peanyakan densus tugas berantas kkb...</td>\n",
              "    </tr>\n",
              "    <tr>\n",
              "      <th>2</th>\n",
              "      <td>b densus tugas utk hadap kkb papua contoh bhw ...</td>\n",
              "    </tr>\n",
              "    <tr>\n",
              "      <th>3</th>\n",
              "      <td>b densus tugas utk hadap kkb papua contoh bhw ...</td>\n",
              "    </tr>\n",
              "    <tr>\n",
              "      <th>4</th>\n",
              "      <td>b densus tugas utk hadap kkb papua contoh bhw ...</td>\n",
              "    </tr>\n",
              "    <tr>\n",
              "      <th>...</th>\n",
              "      <td>...</td>\n",
              "    </tr>\n",
              "    <tr>\n",
              "      <th>674</th>\n",
              "      <td>b opm kkb cap teroris berai densus cepat opera...</td>\n",
              "    </tr>\n",
              "    <tr>\n",
              "      <th>675</th>\n",
              "      <td>bketika opm kkb cap teroris berai densus cepat...</td>\n",
              "    </tr>\n",
              "    <tr>\n",
              "      <th>676</th>\n",
              "      <td>bmuhyiddin mrk yg pnh msh gabung dg kkb sesal ...</td>\n",
              "    </tr>\n",
              "    <tr>\n",
              "      <th>677</th>\n",
              "      <td>bjadi nakes yg bantai papua teroris kkb gimana...</td>\n",
              "    </tr>\n",
              "    <tr>\n",
              "      <th>678</th>\n",
              "      <td>b tunggu kkb papua masuk islam tumpas xfxfxxxf...</td>\n",
              "    </tr>\n",
              "  </tbody>\n",
              "</table>\n",
              "<p>679 rows × 1 columns</p>\n",
              "</div>"
            ],
            "text/plain": [
              "                                            CleanTweet\n",
              "0    b fadli zon peanyakan densus tugas berantas kk...\n",
              "1    bfadli zon peanyakan densus tugas berantas kkb...\n",
              "2    b densus tugas utk hadap kkb papua contoh bhw ...\n",
              "3    b densus tugas utk hadap kkb papua contoh bhw ...\n",
              "4    b densus tugas utk hadap kkb papua contoh bhw ...\n",
              "..                                                 ...\n",
              "674  b opm kkb cap teroris berai densus cepat opera...\n",
              "675  bketika opm kkb cap teroris berai densus cepat...\n",
              "676  bmuhyiddin mrk yg pnh msh gabung dg kkb sesal ...\n",
              "677  bjadi nakes yg bantai papua teroris kkb gimana...\n",
              "678  b tunggu kkb papua masuk islam tumpas xfxfxxxf...\n",
              "\n",
              "[679 rows x 1 columns]"
            ]
          },
          "metadata": {},
          "execution_count": 8
        }
      ]
    },
    {
      "cell_type": "code",
      "metadata": {
        "colab": {
          "base_uri": "https://localhost:8080/"
        },
        "id": "tmCI10zd_NI1",
        "outputId": "dfc315dc-a162-4d95-ccb5-a7807ce20c61"
      },
      "source": [
        "get_emotion(data['CleanTweet'][678])"
      ],
      "execution_count": null,
      "outputs": [
        {
          "output_type": "execute_result",
          "data": {
            "text/plain": [
              "{'angry': 0, 'fear': 0, 'happy': 0, 'sad': 0, 'surprise': 0}"
            ]
          },
          "metadata": {},
          "execution_count": 9
        }
      ]
    },
    {
      "cell_type": "code",
      "metadata": {
        "colab": {
          "base_uri": "https://localhost:8080/"
        },
        "id": "AqV26AdWgzOU",
        "outputId": "fe831612-5618-419f-9c1e-8efa3138e676"
      },
      "source": [
        "get_emotion('berantas')"
      ],
      "execution_count": null,
      "outputs": [
        {
          "output_type": "execute_result",
          "data": {
            "text/plain": [
              "{'angry': 0, 'fear': 0, 'happy': 0, 'sad': 0, 'surprise': 0}"
            ]
          },
          "metadata": {},
          "execution_count": 10
        }
      ]
    },
    {
      "cell_type": "code",
      "metadata": {
        "colab": {
          "base_uri": "https://localhost:8080/"
        },
        "id": "5BRyon8gMdCC",
        "outputId": "b49a4ac2-5aef-428c-bf86-21920d3e9c8b"
      },
      "source": [
        "get_emotion(\"KKB and Separatists are Sources of Conflict for the Papuan People\")"
      ],
      "execution_count": null,
      "outputs": [
        {
          "output_type": "execute_result",
          "data": {
            "text/plain": [
              "{'angry': 0, 'fear': 0, 'happy': 0, 'sad': 0, 'surprise': 0}"
            ]
          },
          "metadata": {},
          "execution_count": 11
        }
      ]
    }
  ]
}